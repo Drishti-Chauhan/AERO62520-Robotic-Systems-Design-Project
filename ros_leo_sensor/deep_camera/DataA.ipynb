{
 "cells": [
  {
   "cell_type": "code",
   "execution_count": null,
   "metadata": {},
   "outputs": [],
   "source": [
    "import cv2\n",
    "import numpy as np\n",
    "\n",
    "depth_image = cv2.imread('depth_image_RGB_Color.png', cv2.IMREAD_UNCHANGED)\n",
    "template = cv2.imread('cube_template.png', cv2.IMREAD_UNCHANGED)\n",
    "\n",
    "\n",
    "# Perform template matching\n",
    "result = cv2.matchTemplate(depth_image, template, cv2.TM_CCOEFF_NORMED)\n",
    "print(result)\n",
    "\n",
    "# Set a threshold for the similarity score \n",
    "threshold = 0.22\n",
    "\n",
    "# Find locations where the template matches\n",
    "locations = np.where(result >= threshold)\n",
    "print(locations)\n"
   ]
  },
  {
   "cell_type": "code",
   "execution_count": null,
   "metadata": {},
   "outputs": [],
   "source": [
    "# Iterate through matched locations\n",
    "center_max_x=0\n",
    "center_min_x=0\n",
    "center_max_y=0\n",
    "center_min_y=0\n",
    "for pt in zip(*locations[::-1]):\n",
    "    # Calculate the center of the detected object\n",
    "    center_x = pt[0] + template.shape[1] // 2\n",
    "    center_y = pt[1] + template.shape[0] // 2\n",
    "    if center_x>center_max_x:\n",
    "        c =center_x\n",
    "    if center_y>center_max_y:\n",
    "        center_max_y =center_y\n",
    "    if center_x<center_min_x:\n",
    "        center_min_x =center_x\n",
    "    if center_y<center_min_y:\n",
    "        center_min_y =center_y\n",
    "center_x = (c+center_min_x)/2\n",
    "center_y = (center_max_y+center_min_y)/2\n",
    "print(center_x)\n",
    "print(center_y)\n",
    "\n",
    "    # Get the depth value at the center of the detected object\n",
    "depth_value = depth_image_1[int(center_y), int(center_x)]\n",
    "\n",
    "    # Assuming depth values are in millimeters, convert to meters\n",
    "depth_in_meters = depth_value / 1000.0\n",
    "\n",
    "    # Print the measured distance\n",
    "print(f\"Distance to the cube: {depth_in_meters} meters\")\n",
    "\n"
   ]
  },
  {
   "cell_type": "code",
   "execution_count": null,
   "metadata": {},
   "outputs": [],
   "source": [
    "# Display the depth image with detected objects\n",
    "cv2.imshow('Object Detection', depth_image)\n",
    "cv2.waitKey(0)\n",
    "cv2.destroyAllWindows()"
   ]
  },
  {
   "cell_type": "code",
   "execution_count": null,
   "metadata": {},
   "outputs": [],
   "source": [
    "import cv2\n",
    "import numpy as np\n",
    "\n",
    "# Define the acceptable color range for the bottle's label \n",
    "lower_color = np.array([0, 0, 100])\n",
    "upper_color = np.array([50, 50, 255])\n",
    "\n",
    "# Perform color-based segmentation\n",
    "mask = cv2.inRange(depth_image, lower_color, upper_color)\n",
    "\n",
    "# Calculate color statistics for the segmented region (mean color)\n",
    "mean_color = cv2.mean(depth_image, mask=mask)\n",
    "\n",
    "# Define a threshold for color similarity\n",
    "color_similarity_threshold = 10\n",
    "\n",
    "# Define the expected color (e.g., RGB values)\n",
    "expected_color = (100, 100, 200)\n",
    "\n",
    "# Compare the calculated color statistics to the expected color\n",
    "color_difference = np.linalg.norm(np.array(expected_color) - mean_color[:3])\n",
    "\n",
    "# Check if the color is correct based on the threshold\n",
    "if color_difference < color_similarity_threshold:\n",
    "    print(\"The bottle's color is correct.\")\n",
    "else:\n",
    "    print(\"The bottle's color is incorrect.\")\n"
   ]
  },
  {
   "cell_type": "code",
   "execution_count": null,
   "metadata": {},
   "outputs": [],
   "source": []
  }
 ],
 "metadata": {
  "kernelspec": {
   "display_name": "Python 3",
   "language": "python",
   "name": "python3"
  },
  "language_info": {
   "codemirror_mode": {
    "name": "ipython",
    "version": 3
   },
   "file_extension": ".py",
   "mimetype": "text/x-python",
   "name": "python",
   "nbconvert_exporter": "python",
   "pygments_lexer": "ipython3",
   "version": "3.7.6"
  }
 },
 "nbformat": 4,
 "nbformat_minor": 4
}
